{
 "cells": [
  {
   "cell_type": "code",
   "execution_count": 1,
   "metadata": {},
   "outputs": [],
   "source": [
    "import pandas as pd"
   ]
  },
  {
   "cell_type": "code",
   "execution_count": 2,
   "metadata": {},
   "outputs": [],
   "source": [
    "data = pd.read_csv('/gpfs/sciencegenome/WoS-disambiguation/validation/validation-disambiguated-authors.csv')"
   ]
  },
  {
   "cell_type": "code",
   "execution_count": 3,
   "metadata": {},
   "outputs": [],
   "source": [
    "true_author_ids_group_by_predicted_result = {id_: list(rows['true_author_id']) for id_, rows in data.groupby('predicted_author_id')}\n",
    "predicted_result_group_by_true_author = {id_: list(rows['predicted_author_id']) for id_, rows in data.groupby('true_author_id')}"
   ]
  },
  {
   "cell_type": "code",
   "execution_count": 4,
   "metadata": {},
   "outputs": [],
   "source": [
    "from collections import Counter\n",
    "def calculate_pairwise_correct_and_false_pair(author_group_dict):\n",
    "    TP = 0\n",
    "    FP = 0\n",
    "    for id_, row in author_group_dict.items():\n",
    "        length = len(row)\n",
    "        counter_dict = Counter(row)\n",
    "        temp_TP = 0\n",
    "        for k,v in counter_dict.items():\n",
    "            if v > 1:\n",
    "                temp_TP += v * (v - 1)/ 2\n",
    "        temp_FP = length * (length - 1) / 2 - temp_TP\n",
    "\n",
    "        TP += temp_TP\n",
    "        FP += temp_FP\n",
    "        \n",
    "    return TP, FP\n",
    "\n",
    "def calculate_pairwise_F_measure(true_author_ids_group_by_predicted_result, predicted_result_group_by_true_author):\n",
    "    TP, FP = calculate_pairwise_correct_and_false_pair(true_author_ids_group_by_predicted_result)\n",
    "    _, FN = calculate_pairwise_correct_and_false_pair(predicted_result_group_by_true_author)\n",
    "    \n",
    "    pairwise_precision = TP / (TP + FP)\n",
    "    pairwise_recall = TP / (TP + FN)\n",
    "    pairwise_F = (2 * pairwise_precision * pairwise_recall)/(pairwise_precision + pairwise_recall)\n",
    "    \n",
    "    return pairwise_F\n",
    "    \n"
   ]
  },
  {
   "cell_type": "code",
   "execution_count": 5,
   "metadata": {},
   "outputs": [
    {
     "data": {
      "text/plain": [
       "0.9419945725915876"
      ]
     },
     "execution_count": 5,
     "metadata": {},
     "output_type": "execute_result"
    }
   ],
   "source": [
    "calculate_pairwise_F_measure(true_author_ids_group_by_predicted_result, predicted_result_group_by_true_author)"
   ]
  },
  {
   "cell_type": "code",
   "execution_count": 6,
   "metadata": {},
   "outputs": [],
   "source": [
    "# Let's test with the perfect case\n",
    "\n",
    "perfect_true_author_ids_group_by_predicted_result = {id_: list(rows['predicted_author_id']) for id_, rows in data.groupby('predicted_author_id')}\n",
    "perfect_predicted_result_group_by_true_author = {id_: list(rows['true_author_id']) for id_, rows in data.groupby('true_author_id')}"
   ]
  },
  {
   "cell_type": "code",
   "execution_count": 7,
   "metadata": {},
   "outputs": [
    {
     "data": {
      "text/plain": [
       "1.0"
      ]
     },
     "execution_count": 7,
     "metadata": {},
     "output_type": "execute_result"
    }
   ],
   "source": [
    "calculate_pairwise_F_measure(perfect_true_author_ids_group_by_predicted_result, perfect_predicted_result_group_by_true_author)"
   ]
  },
  {
   "cell_type": "code",
   "execution_count": null,
   "metadata": {},
   "outputs": [],
   "source": []
  },
  {
   "cell_type": "code",
   "execution_count": null,
   "metadata": {},
   "outputs": [],
   "source": []
  },
  {
   "cell_type": "code",
   "execution_count": null,
   "metadata": {},
   "outputs": [],
   "source": []
  },
  {
   "cell_type": "code",
   "execution_count": null,
   "metadata": {},
   "outputs": [],
   "source": []
  },
  {
   "cell_type": "code",
   "execution_count": null,
   "metadata": {},
   "outputs": [],
   "source": []
  },
  {
   "cell_type": "code",
   "execution_count": null,
   "metadata": {},
   "outputs": [],
   "source": []
  },
  {
   "cell_type": "code",
   "execution_count": null,
   "metadata": {},
   "outputs": [],
   "source": []
  },
  {
   "cell_type": "code",
   "execution_count": null,
   "metadata": {},
   "outputs": [],
   "source": []
  },
  {
   "cell_type": "code",
   "execution_count": null,
   "metadata": {},
   "outputs": [],
   "source": []
  },
  {
   "cell_type": "code",
   "execution_count": null,
   "metadata": {},
   "outputs": [],
   "source": []
  }
 ],
 "metadata": {
  "kernelspec": {
   "display_name": "Python 3",
   "language": "python",
   "name": "python3"
  },
  "language_info": {
   "codemirror_mode": {
    "name": "ipython",
    "version": 3
   },
   "file_extension": ".py",
   "mimetype": "text/x-python",
   "name": "python",
   "nbconvert_exporter": "python",
   "pygments_lexer": "ipython3",
   "version": "3.7.3"
  }
 },
 "nbformat": 4,
 "nbformat_minor": 4
}
