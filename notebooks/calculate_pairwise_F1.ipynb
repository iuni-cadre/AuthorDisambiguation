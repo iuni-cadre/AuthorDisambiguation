{
 "cells": [
  {
   "cell_type": "code",
   "execution_count": 12,
   "metadata": {},
   "outputs": [],
   "source": [
    "import pandas as pd"
   ]
  },
  {
   "cell_type": "code",
   "execution_count": 13,
   "metadata": {},
   "outputs": [],
   "source": [
    "data = pd.read_csv('../data/disambiguationBenchmarkLabels.csv')\n",
    "#data = pd.read_csv('/gpfs/sciencegenome/WoS-disambiguation/validation/validation-disambiguated-authors.csv')"
   ]
  },
  {
   "cell_type": "code",
   "execution_count": 14,
   "metadata": {},
   "outputs": [
    {
     "data": {
      "text/plain": [
       "Index(['WoSid', 'MAGids', 'authorids', 'authorOrders', 'affiliationids',\n",
       "       'affiliationNormalized', 'affiliationNames', 'GRIDids', 'SSdois',\n",
       "       'SSauthorNameList', 'SSauthorIDList', 'SSrefList', 'ID_researcher',\n",
       "       'Author_name', 'author_order'],\n",
       "      dtype='object')"
      ]
     },
     "execution_count": 14,
     "metadata": {},
     "output_type": "execute_result"
    }
   ],
   "source": [
    "data.columns"
   ]
  },
  {
   "cell_type": "code",
   "execution_count": 15,
   "metadata": {},
   "outputs": [],
   "source": [
    "data = data.rename(columns = {\"ID_researcher\":\"true_author_id\", \"authorids\":\"predicted_author_id\"})\n"
   ]
  },
  {
   "cell_type": "code",
   "execution_count": 19,
   "metadata": {},
   "outputs": [
    {
     "data": {
      "text/html": [
       "<div>\n",
       "<style scoped>\n",
       "    .dataframe tbody tr th:only-of-type {\n",
       "        vertical-align: middle;\n",
       "    }\n",
       "\n",
       "    .dataframe tbody tr th {\n",
       "        vertical-align: top;\n",
       "    }\n",
       "\n",
       "    .dataframe thead th {\n",
       "        text-align: right;\n",
       "    }\n",
       "</style>\n",
       "<table border=\"1\" class=\"dataframe\">\n",
       "  <thead>\n",
       "    <tr style=\"text-align: right;\">\n",
       "      <th></th>\n",
       "      <th>true_author_id</th>\n",
       "      <th>predicted_author_id</th>\n",
       "    </tr>\n",
       "  </thead>\n",
       "  <tbody>\n",
       "    <tr>\n",
       "      <th>0</th>\n",
       "      <td>839</td>\n",
       "      <td>2900976016;2901401493</td>\n",
       "    </tr>\n",
       "    <tr>\n",
       "      <th>1</th>\n",
       "      <td>23852</td>\n",
       "      <td>1959309044;2103446411</td>\n",
       "    </tr>\n",
       "    <tr>\n",
       "      <th>2</th>\n",
       "      <td>5371</td>\n",
       "      <td>NaN</td>\n",
       "    </tr>\n",
       "    <tr>\n",
       "      <th>3</th>\n",
       "      <td>1475;2181;4643;9266;17626;28441</td>\n",
       "      <td>2124548152</td>\n",
       "    </tr>\n",
       "    <tr>\n",
       "      <th>4</th>\n",
       "      <td>11094</td>\n",
       "      <td>NaN</td>\n",
       "    </tr>\n",
       "    <tr>\n",
       "      <th>...</th>\n",
       "      <td>...</td>\n",
       "      <td>...</td>\n",
       "    </tr>\n",
       "    <tr>\n",
       "      <th>618492</th>\n",
       "      <td>24509</td>\n",
       "      <td>NaN</td>\n",
       "    </tr>\n",
       "    <tr>\n",
       "      <th>618493</th>\n",
       "      <td>6717</td>\n",
       "      <td>NaN</td>\n",
       "    </tr>\n",
       "    <tr>\n",
       "      <th>618494</th>\n",
       "      <td>15697</td>\n",
       "      <td>NaN</td>\n",
       "    </tr>\n",
       "    <tr>\n",
       "      <th>618495</th>\n",
       "      <td>29170</td>\n",
       "      <td>NaN</td>\n",
       "    </tr>\n",
       "    <tr>\n",
       "      <th>618496</th>\n",
       "      <td>17711</td>\n",
       "      <td>3024664367</td>\n",
       "    </tr>\n",
       "  </tbody>\n",
       "</table>\n",
       "<p>618497 rows × 2 columns</p>\n",
       "</div>"
      ],
      "text/plain": [
       "                         true_author_id    predicted_author_id\n",
       "0                                   839  2900976016;2901401493\n",
       "1                                 23852  1959309044;2103446411\n",
       "2                                  5371                    NaN\n",
       "3       1475;2181;4643;9266;17626;28441             2124548152\n",
       "4                                 11094                    NaN\n",
       "...                                 ...                    ...\n",
       "618492                            24509                    NaN\n",
       "618493                             6717                    NaN\n",
       "618494                            15697                    NaN\n",
       "618495                            29170                    NaN\n",
       "618496                            17711             3024664367\n",
       "\n",
       "[618497 rows x 2 columns]"
      ]
     },
     "execution_count": 19,
     "metadata": {},
     "output_type": "execute_result"
    }
   ],
   "source": [
    "data[[\"true_author_id\", \"predicted_author_id\"]].dropna()"
   ]
  },
  {
   "cell_type": "code",
   "execution_count": 16,
   "metadata": {},
   "outputs": [],
   "source": [
    "true_author_ids_group_by_predicted_result = {id_: list(rows['true_author_id']) for id_, rows in data.groupby('predicted_author_id')}\n",
    "predicted_result_group_by_true_author = {id_: list(rows['predicted_author_id']) for id_, rows in data.groupby('true_author_id')}"
   ]
  },
  {
   "cell_type": "code",
   "execution_count": 17,
   "metadata": {},
   "outputs": [],
   "source": [
    "from collections import Counter\n",
    "def calculate_pairwise_correct_and_false_pair(author_group_dict):\n",
    "    TP = 0\n",
    "    FP = 0\n",
    "    for id_, row in author_group_dict.items():\n",
    "        length = len(row)\n",
    "        counter_dict = Counter(row)\n",
    "        temp_TP = 0\n",
    "        for k,v in counter_dict.items():\n",
    "            if v > 1:\n",
    "                temp_TP += v * (v - 1)/ 2\n",
    "        temp_FP = length * (length - 1) / 2 - temp_TP\n",
    "\n",
    "        TP += temp_TP\n",
    "        FP += temp_FP\n",
    "        \n",
    "    return TP, FP\n",
    "\n",
    "def calculate_pairwise_F_measure(true_author_ids_group_by_predicted_result, predicted_result_group_by_true_author):\n",
    "    TP, FP = calculate_pairwise_correct_and_false_pair(true_author_ids_group_by_predicted_result)\n",
    "    _, FN = calculate_pairwise_correct_and_false_pair(predicted_result_group_by_true_author)\n",
    "    \n",
    "    pairwise_precision = TP / (TP + FP)\n",
    "    pairwise_recall = TP / (TP + FN)\n",
    "    pairwise_F = (2 * pairwise_precision * pairwise_recall)/(pairwise_precision + pairwise_recall)\n",
    "    \n",
    "    return pairwise_F\n",
    "    \n"
   ]
  },
  {
   "cell_type": "code",
   "execution_count": 18,
   "metadata": {},
   "outputs": [
    {
     "data": {
      "text/plain": [
       "0.023815418773105276"
      ]
     },
     "execution_count": 18,
     "metadata": {},
     "output_type": "execute_result"
    }
   ],
   "source": [
    "calculate_pairwise_F_measure(true_author_ids_group_by_predicted_result, predicted_result_group_by_true_author)"
   ]
  },
  {
   "cell_type": "code",
   "execution_count": 6,
   "metadata": {},
   "outputs": [],
   "source": [
    "# Let's test with the perfect case\n",
    "\n",
    "perfect_true_author_ids_group_by_predicted_result = {id_: list(rows['predicted_author_id']) for id_, rows in data.groupby('predicted_author_id')}\n",
    "perfect_predicted_result_group_by_true_author = {id_: list(rows['true_author_id']) for id_, rows in data.groupby('true_author_id')}"
   ]
  },
  {
   "cell_type": "code",
   "execution_count": 7,
   "metadata": {},
   "outputs": [
    {
     "data": {
      "text/plain": [
       "1.0"
      ]
     },
     "execution_count": 7,
     "metadata": {},
     "output_type": "execute_result"
    }
   ],
   "source": [
    "calculate_pairwise_F_measure(perfect_true_author_ids_group_by_predicted_result, perfect_predicted_result_group_by_true_author)"
   ]
  },
  {
   "cell_type": "code",
   "execution_count": null,
   "metadata": {},
   "outputs": [],
   "source": []
  },
  {
   "cell_type": "code",
   "execution_count": null,
   "metadata": {},
   "outputs": [],
   "source": []
  },
  {
   "cell_type": "code",
   "execution_count": null,
   "metadata": {},
   "outputs": [],
   "source": []
  },
  {
   "cell_type": "code",
   "execution_count": null,
   "metadata": {},
   "outputs": [],
   "source": []
  },
  {
   "cell_type": "code",
   "execution_count": null,
   "metadata": {},
   "outputs": [],
   "source": []
  },
  {
   "cell_type": "code",
   "execution_count": null,
   "metadata": {},
   "outputs": [],
   "source": []
  },
  {
   "cell_type": "code",
   "execution_count": null,
   "metadata": {},
   "outputs": [],
   "source": []
  },
  {
   "cell_type": "code",
   "execution_count": null,
   "metadata": {},
   "outputs": [],
   "source": []
  },
  {
   "cell_type": "code",
   "execution_count": null,
   "metadata": {},
   "outputs": [],
   "source": []
  },
  {
   "cell_type": "code",
   "execution_count": null,
   "metadata": {},
   "outputs": [],
   "source": []
  }
 ],
 "metadata": {
  "kernelspec": {
   "display_name": "Python 3",
   "language": "python",
   "name": "python3"
  },
  "language_info": {
   "codemirror_mode": {
    "name": "ipython",
    "version": 3
   },
   "file_extension": ".py",
   "mimetype": "text/x-python",
   "name": "python",
   "nbconvert_exporter": "python",
   "pygments_lexer": "ipython3",
   "version": "3.7.6"
  }
 },
 "nbformat": 4,
 "nbformat_minor": 4
}
